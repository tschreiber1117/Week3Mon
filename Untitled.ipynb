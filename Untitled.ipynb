{
 "cells": [
  {
   "cell_type": "code",
   "execution_count": 17,
   "id": "421aa99a",
   "metadata": {},
   "outputs": [
    {
     "name": "stdout",
     "output_type": "stream",
     "text": [
      "o\n",
      "e\n"
     ]
    },
    {
     "data": {
      "text/plain": [
       "'jl'"
      ]
     },
     "execution_count": 17,
     "metadata": {},
     "output_type": "execute_result"
    }
   ],
   "source": [
    "#Write a function that will remove all vowels from a given string. The function should return a string.\n",
    "#Example:\n",
    "#Input: ‘Joel’\n",
    "#Output: ‘Jl’\n",
    "    \n",
    "def no_vowels(x):\n",
    "    vowels = ('a', 'e', 'i', 'o', 'u')\n",
    "    for i in x:\n",
    "        if i in vowels:\n",
    "            x = x.replace(i, '')\n",
    "            print (i)\n",
    "    return x\n",
    "no_vowels('joel')\n"
   ]
  }
 ],
 "metadata": {
  "kernelspec": {
   "display_name": "Python 3",
   "language": "python",
   "name": "python3"
  },
  "language_info": {
   "codemirror_mode": {
    "name": "ipython",
    "version": 3
   },
   "file_extension": ".py",
   "mimetype": "text/x-python",
   "name": "python",
   "nbconvert_exporter": "python",
   "pygments_lexer": "ipython3",
   "version": "3.8.8"
  }
 },
 "nbformat": 4,
 "nbformat_minor": 5
}
